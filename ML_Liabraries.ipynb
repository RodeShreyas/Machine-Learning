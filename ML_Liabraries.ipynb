{
 "cells": [
  {
   "cell_type": "code",
   "execution_count": 1,
   "id": "35d83f6a-c5dd-4f67-9e76-a3c4e41ebdc2",
   "metadata": {},
   "outputs": [],
   "source": [
    "import numpy as np \n",
    "import pandas as pd"
   ]
  },
  {
   "cell_type": "markdown",
   "id": "c91a8681-6187-4afe-8d64-5ecb1341b192",
   "metadata": {},
   "source": [
    "# Create Data Frames"
   ]
  },
  {
   "cell_type": "code",
   "execution_count": 2,
   "id": "fff69b0e-b27c-45ef-9e4e-21c8f27d20f8",
   "metadata": {},
   "outputs": [],
   "source": [
    "df = pd.DataFrame(np.random.randn(5,4),columns=['W','X','Y','Z'])"
   ]
  },
  {
   "cell_type": "code",
   "execution_count": 3,
   "id": "ca96ec62-eebb-4439-b95c-c448ead92663",
   "metadata": {},
   "outputs": [
    {
     "data": {
      "text/html": [
       "<div>\n",
       "<style scoped>\n",
       "    .dataframe tbody tr th:only-of-type {\n",
       "        vertical-align: middle;\n",
       "    }\n",
       "\n",
       "    .dataframe tbody tr th {\n",
       "        vertical-align: top;\n",
       "    }\n",
       "\n",
       "    .dataframe thead th {\n",
       "        text-align: right;\n",
       "    }\n",
       "</style>\n",
       "<table border=\"1\" class=\"dataframe\">\n",
       "  <thead>\n",
       "    <tr style=\"text-align: right;\">\n",
       "      <th></th>\n",
       "      <th>W</th>\n",
       "      <th>X</th>\n",
       "      <th>Y</th>\n",
       "      <th>Z</th>\n",
       "    </tr>\n",
       "  </thead>\n",
       "  <tbody>\n",
       "    <tr>\n",
       "      <th>0</th>\n",
       "      <td>0.798110</td>\n",
       "      <td>0.223191</td>\n",
       "      <td>0.778342</td>\n",
       "      <td>0.253085</td>\n",
       "    </tr>\n",
       "    <tr>\n",
       "      <th>1</th>\n",
       "      <td>0.059245</td>\n",
       "      <td>-1.331604</td>\n",
       "      <td>0.723459</td>\n",
       "      <td>0.436732</td>\n",
       "    </tr>\n",
       "    <tr>\n",
       "      <th>2</th>\n",
       "      <td>1.732552</td>\n",
       "      <td>0.095831</td>\n",
       "      <td>1.736671</td>\n",
       "      <td>0.356191</td>\n",
       "    </tr>\n",
       "    <tr>\n",
       "      <th>3</th>\n",
       "      <td>0.614268</td>\n",
       "      <td>-0.067506</td>\n",
       "      <td>1.665442</td>\n",
       "      <td>-2.358742</td>\n",
       "    </tr>\n",
       "    <tr>\n",
       "      <th>4</th>\n",
       "      <td>-2.053557</td>\n",
       "      <td>0.504950</td>\n",
       "      <td>-1.437050</td>\n",
       "      <td>2.227930</td>\n",
       "    </tr>\n",
       "  </tbody>\n",
       "</table>\n",
       "</div>"
      ],
      "text/plain": [
       "          W         X         Y         Z\n",
       "0  0.798110  0.223191  0.778342  0.253085\n",
       "1  0.059245 -1.331604  0.723459  0.436732\n",
       "2  1.732552  0.095831  1.736671  0.356191\n",
       "3  0.614268 -0.067506  1.665442 -2.358742\n",
       "4 -2.053557  0.504950 -1.437050  2.227930"
      ]
     },
     "execution_count": 3,
     "metadata": {},
     "output_type": "execute_result"
    }
   ],
   "source": [
    "df "
   ]
  },
  {
   "cell_type": "code",
   "execution_count": 4,
   "id": "cd72a87b-1ea3-4c11-bbb5-d5339b0676c6",
   "metadata": {},
   "outputs": [
    {
     "data": {
      "text/plain": [
       "0    0.798110\n",
       "1    0.059245\n",
       "2    1.732552\n",
       "3    0.614268\n",
       "4   -2.053557\n",
       "Name: W, dtype: float64"
      ]
     },
     "execution_count": 4,
     "metadata": {},
     "output_type": "execute_result"
    }
   ],
   "source": [
    "df['W']"
   ]
  },
  {
   "cell_type": "code",
   "execution_count": 5,
   "id": "5bb01d38-1cc0-4c11-ba61-5390cc96f193",
   "metadata": {},
   "outputs": [
    {
     "data": {
      "text/plain": [
       "0    0.798110\n",
       "1    0.059245\n",
       "2    1.732552\n",
       "3    0.614268\n",
       "4   -2.053557\n",
       "Name: W, dtype: float64"
      ]
     },
     "execution_count": 5,
     "metadata": {},
     "output_type": "execute_result"
    }
   ],
   "source": [
    "df.W"
   ]
  },
  {
   "cell_type": "code",
   "execution_count": 6,
   "id": "3008770c-faf9-43e5-8c07-068c91dd4fdf",
   "metadata": {},
   "outputs": [
    {
     "data": {
      "text/plain": [
       "pandas.core.series.Series"
      ]
     },
     "execution_count": 6,
     "metadata": {},
     "output_type": "execute_result"
    }
   ],
   "source": [
    "type(df['W'])"
   ]
  },
  {
   "cell_type": "code",
   "execution_count": 7,
   "id": "a75d1eae-1bdd-4525-acf5-56cc91c8d7e4",
   "metadata": {},
   "outputs": [
    {
     "data": {
      "text/plain": [
       "pandas.core.frame.DataFrame"
      ]
     },
     "execution_count": 7,
     "metadata": {},
     "output_type": "execute_result"
    }
   ],
   "source": [
    "type(df[['W','Z']])"
   ]
  },
  {
   "cell_type": "code",
   "execution_count": 8,
   "id": "15ed3e43-a826-4037-889f-c7df44fd0b90",
   "metadata": {},
   "outputs": [
    {
     "data": {
      "text/html": [
       "<div>\n",
       "<style scoped>\n",
       "    .dataframe tbody tr th:only-of-type {\n",
       "        vertical-align: middle;\n",
       "    }\n",
       "\n",
       "    .dataframe tbody tr th {\n",
       "        vertical-align: top;\n",
       "    }\n",
       "\n",
       "    .dataframe thead th {\n",
       "        text-align: right;\n",
       "    }\n",
       "</style>\n",
       "<table border=\"1\" class=\"dataframe\">\n",
       "  <thead>\n",
       "    <tr style=\"text-align: right;\">\n",
       "      <th></th>\n",
       "      <th>W</th>\n",
       "      <th>X</th>\n",
       "      <th>Y</th>\n",
       "      <th>Z</th>\n",
       "    </tr>\n",
       "  </thead>\n",
       "  <tbody>\n",
       "    <tr>\n",
       "      <th>0</th>\n",
       "      <td>0.798110</td>\n",
       "      <td>0.223191</td>\n",
       "      <td>0.778342</td>\n",
       "      <td>0.253085</td>\n",
       "    </tr>\n",
       "    <tr>\n",
       "      <th>1</th>\n",
       "      <td>0.059245</td>\n",
       "      <td>-1.331604</td>\n",
       "      <td>0.723459</td>\n",
       "      <td>0.436732</td>\n",
       "    </tr>\n",
       "    <tr>\n",
       "      <th>2</th>\n",
       "      <td>1.732552</td>\n",
       "      <td>0.095831</td>\n",
       "      <td>1.736671</td>\n",
       "      <td>0.356191</td>\n",
       "    </tr>\n",
       "    <tr>\n",
       "      <th>3</th>\n",
       "      <td>0.614268</td>\n",
       "      <td>-0.067506</td>\n",
       "      <td>1.665442</td>\n",
       "      <td>-2.358742</td>\n",
       "    </tr>\n",
       "    <tr>\n",
       "      <th>4</th>\n",
       "      <td>-2.053557</td>\n",
       "      <td>0.504950</td>\n",
       "      <td>-1.437050</td>\n",
       "      <td>2.227930</td>\n",
       "    </tr>\n",
       "  </tbody>\n",
       "</table>\n",
       "</div>"
      ],
      "text/plain": [
       "          W         X         Y         Z\n",
       "0  0.798110  0.223191  0.778342  0.253085\n",
       "1  0.059245 -1.331604  0.723459  0.436732\n",
       "2  1.732552  0.095831  1.736671  0.356191\n",
       "3  0.614268 -0.067506  1.665442 -2.358742\n",
       "4 -2.053557  0.504950 -1.437050  2.227930"
      ]
     },
     "execution_count": 8,
     "metadata": {},
     "output_type": "execute_result"
    }
   ],
   "source": [
    "df "
   ]
  },
  {
   "cell_type": "code",
   "execution_count": 9,
   "id": "91cca317-e15a-424a-9f60-9fc7a4ab08cc",
   "metadata": {},
   "outputs": [],
   "source": [
    "df['Shreyas']  = df['W'] + df[\"Z\"]"
   ]
  },
  {
   "cell_type": "code",
   "execution_count": 10,
   "id": "fe834f07-e336-498a-ada0-bd7b3eff7cb5",
   "metadata": {},
   "outputs": [
    {
     "data": {
      "text/html": [
       "<div>\n",
       "<style scoped>\n",
       "    .dataframe tbody tr th:only-of-type {\n",
       "        vertical-align: middle;\n",
       "    }\n",
       "\n",
       "    .dataframe tbody tr th {\n",
       "        vertical-align: top;\n",
       "    }\n",
       "\n",
       "    .dataframe thead th {\n",
       "        text-align: right;\n",
       "    }\n",
       "</style>\n",
       "<table border=\"1\" class=\"dataframe\">\n",
       "  <thead>\n",
       "    <tr style=\"text-align: right;\">\n",
       "      <th></th>\n",
       "      <th>W</th>\n",
       "      <th>X</th>\n",
       "      <th>Y</th>\n",
       "      <th>Z</th>\n",
       "      <th>Shreyas</th>\n",
       "    </tr>\n",
       "  </thead>\n",
       "  <tbody>\n",
       "    <tr>\n",
       "      <th>0</th>\n",
       "      <td>0.798110</td>\n",
       "      <td>0.223191</td>\n",
       "      <td>0.778342</td>\n",
       "      <td>0.253085</td>\n",
       "      <td>1.051195</td>\n",
       "    </tr>\n",
       "    <tr>\n",
       "      <th>1</th>\n",
       "      <td>0.059245</td>\n",
       "      <td>-1.331604</td>\n",
       "      <td>0.723459</td>\n",
       "      <td>0.436732</td>\n",
       "      <td>0.495977</td>\n",
       "    </tr>\n",
       "    <tr>\n",
       "      <th>2</th>\n",
       "      <td>1.732552</td>\n",
       "      <td>0.095831</td>\n",
       "      <td>1.736671</td>\n",
       "      <td>0.356191</td>\n",
       "      <td>2.088743</td>\n",
       "    </tr>\n",
       "    <tr>\n",
       "      <th>3</th>\n",
       "      <td>0.614268</td>\n",
       "      <td>-0.067506</td>\n",
       "      <td>1.665442</td>\n",
       "      <td>-2.358742</td>\n",
       "      <td>-1.744474</td>\n",
       "    </tr>\n",
       "    <tr>\n",
       "      <th>4</th>\n",
       "      <td>-2.053557</td>\n",
       "      <td>0.504950</td>\n",
       "      <td>-1.437050</td>\n",
       "      <td>2.227930</td>\n",
       "      <td>0.174373</td>\n",
       "    </tr>\n",
       "  </tbody>\n",
       "</table>\n",
       "</div>"
      ],
      "text/plain": [
       "          W         X         Y         Z   Shreyas\n",
       "0  0.798110  0.223191  0.778342  0.253085  1.051195\n",
       "1  0.059245 -1.331604  0.723459  0.436732  0.495977\n",
       "2  1.732552  0.095831  1.736671  0.356191  2.088743\n",
       "3  0.614268 -0.067506  1.665442 -2.358742 -1.744474\n",
       "4 -2.053557  0.504950 -1.437050  2.227930  0.174373"
      ]
     },
     "execution_count": 10,
     "metadata": {},
     "output_type": "execute_result"
    }
   ],
   "source": [
    "df "
   ]
  },
  {
   "cell_type": "code",
   "execution_count": 11,
   "id": "361c87db-7b9f-4ed6-8289-2d0589e0af8d",
   "metadata": {},
   "outputs": [],
   "source": [
    "df['new'] = [1,2,3,4,5]"
   ]
  },
  {
   "cell_type": "code",
   "execution_count": 12,
   "id": "30e68783-f7c2-4ae4-8b80-007042ba34da",
   "metadata": {},
   "outputs": [
    {
     "data": {
      "text/html": [
       "<div>\n",
       "<style scoped>\n",
       "    .dataframe tbody tr th:only-of-type {\n",
       "        vertical-align: middle;\n",
       "    }\n",
       "\n",
       "    .dataframe tbody tr th {\n",
       "        vertical-align: top;\n",
       "    }\n",
       "\n",
       "    .dataframe thead th {\n",
       "        text-align: right;\n",
       "    }\n",
       "</style>\n",
       "<table border=\"1\" class=\"dataframe\">\n",
       "  <thead>\n",
       "    <tr style=\"text-align: right;\">\n",
       "      <th></th>\n",
       "      <th>W</th>\n",
       "      <th>X</th>\n",
       "      <th>Y</th>\n",
       "      <th>Z</th>\n",
       "      <th>Shreyas</th>\n",
       "      <th>new</th>\n",
       "    </tr>\n",
       "  </thead>\n",
       "  <tbody>\n",
       "    <tr>\n",
       "      <th>0</th>\n",
       "      <td>0.798110</td>\n",
       "      <td>0.223191</td>\n",
       "      <td>0.778342</td>\n",
       "      <td>0.253085</td>\n",
       "      <td>1.051195</td>\n",
       "      <td>1</td>\n",
       "    </tr>\n",
       "    <tr>\n",
       "      <th>1</th>\n",
       "      <td>0.059245</td>\n",
       "      <td>-1.331604</td>\n",
       "      <td>0.723459</td>\n",
       "      <td>0.436732</td>\n",
       "      <td>0.495977</td>\n",
       "      <td>2</td>\n",
       "    </tr>\n",
       "    <tr>\n",
       "      <th>2</th>\n",
       "      <td>1.732552</td>\n",
       "      <td>0.095831</td>\n",
       "      <td>1.736671</td>\n",
       "      <td>0.356191</td>\n",
       "      <td>2.088743</td>\n",
       "      <td>3</td>\n",
       "    </tr>\n",
       "    <tr>\n",
       "      <th>3</th>\n",
       "      <td>0.614268</td>\n",
       "      <td>-0.067506</td>\n",
       "      <td>1.665442</td>\n",
       "      <td>-2.358742</td>\n",
       "      <td>-1.744474</td>\n",
       "      <td>4</td>\n",
       "    </tr>\n",
       "    <tr>\n",
       "      <th>4</th>\n",
       "      <td>-2.053557</td>\n",
       "      <td>0.504950</td>\n",
       "      <td>-1.437050</td>\n",
       "      <td>2.227930</td>\n",
       "      <td>0.174373</td>\n",
       "      <td>5</td>\n",
       "    </tr>\n",
       "  </tbody>\n",
       "</table>\n",
       "</div>"
      ],
      "text/plain": [
       "          W         X         Y         Z   Shreyas  new\n",
       "0  0.798110  0.223191  0.778342  0.253085  1.051195    1\n",
       "1  0.059245 -1.331604  0.723459  0.436732  0.495977    2\n",
       "2  1.732552  0.095831  1.736671  0.356191  2.088743    3\n",
       "3  0.614268 -0.067506  1.665442 -2.358742 -1.744474    4\n",
       "4 -2.053557  0.504950 -1.437050  2.227930  0.174373    5"
      ]
     },
     "execution_count": 12,
     "metadata": {},
     "output_type": "execute_result"
    }
   ],
   "source": [
    "df "
   ]
  },
  {
   "cell_type": "code",
   "execution_count": 13,
   "id": "6c6117b4-f3da-461f-b17a-a3f466dc4fcc",
   "metadata": {},
   "outputs": [
    {
     "data": {
      "text/html": [
       "<div>\n",
       "<style scoped>\n",
       "    .dataframe tbody tr th:only-of-type {\n",
       "        vertical-align: middle;\n",
       "    }\n",
       "\n",
       "    .dataframe tbody tr th {\n",
       "        vertical-align: top;\n",
       "    }\n",
       "\n",
       "    .dataframe thead th {\n",
       "        text-align: right;\n",
       "    }\n",
       "</style>\n",
       "<table border=\"1\" class=\"dataframe\">\n",
       "  <thead>\n",
       "    <tr style=\"text-align: right;\">\n",
       "      <th></th>\n",
       "      <th>W</th>\n",
       "      <th>X</th>\n",
       "      <th>Y</th>\n",
       "      <th>Z</th>\n",
       "      <th>Shreyas</th>\n",
       "    </tr>\n",
       "  </thead>\n",
       "  <tbody>\n",
       "    <tr>\n",
       "      <th>0</th>\n",
       "      <td>0.798110</td>\n",
       "      <td>0.223191</td>\n",
       "      <td>0.778342</td>\n",
       "      <td>0.253085</td>\n",
       "      <td>1.051195</td>\n",
       "    </tr>\n",
       "    <tr>\n",
       "      <th>1</th>\n",
       "      <td>0.059245</td>\n",
       "      <td>-1.331604</td>\n",
       "      <td>0.723459</td>\n",
       "      <td>0.436732</td>\n",
       "      <td>0.495977</td>\n",
       "    </tr>\n",
       "    <tr>\n",
       "      <th>2</th>\n",
       "      <td>1.732552</td>\n",
       "      <td>0.095831</td>\n",
       "      <td>1.736671</td>\n",
       "      <td>0.356191</td>\n",
       "      <td>2.088743</td>\n",
       "    </tr>\n",
       "    <tr>\n",
       "      <th>3</th>\n",
       "      <td>0.614268</td>\n",
       "      <td>-0.067506</td>\n",
       "      <td>1.665442</td>\n",
       "      <td>-2.358742</td>\n",
       "      <td>-1.744474</td>\n",
       "    </tr>\n",
       "    <tr>\n",
       "      <th>4</th>\n",
       "      <td>-2.053557</td>\n",
       "      <td>0.504950</td>\n",
       "      <td>-1.437050</td>\n",
       "      <td>2.227930</td>\n",
       "      <td>0.174373</td>\n",
       "    </tr>\n",
       "  </tbody>\n",
       "</table>\n",
       "</div>"
      ],
      "text/plain": [
       "          W         X         Y         Z   Shreyas\n",
       "0  0.798110  0.223191  0.778342  0.253085  1.051195\n",
       "1  0.059245 -1.331604  0.723459  0.436732  0.495977\n",
       "2  1.732552  0.095831  1.736671  0.356191  2.088743\n",
       "3  0.614268 -0.067506  1.665442 -2.358742 -1.744474\n",
       "4 -2.053557  0.504950 -1.437050  2.227930  0.174373"
      ]
     },
     "execution_count": 13,
     "metadata": {},
     "output_type": "execute_result"
    }
   ],
   "source": [
    "df.drop('new',axis=1)"
   ]
  },
  {
   "cell_type": "code",
   "execution_count": 14,
   "id": "e65b2747-f89a-4258-ae51-1ab2ff022781",
   "metadata": {},
   "outputs": [
    {
     "data": {
      "text/html": [
       "<div>\n",
       "<style scoped>\n",
       "    .dataframe tbody tr th:only-of-type {\n",
       "        vertical-align: middle;\n",
       "    }\n",
       "\n",
       "    .dataframe tbody tr th {\n",
       "        vertical-align: top;\n",
       "    }\n",
       "\n",
       "    .dataframe thead th {\n",
       "        text-align: right;\n",
       "    }\n",
       "</style>\n",
       "<table border=\"1\" class=\"dataframe\">\n",
       "  <thead>\n",
       "    <tr style=\"text-align: right;\">\n",
       "      <th></th>\n",
       "      <th>W</th>\n",
       "      <th>X</th>\n",
       "      <th>Y</th>\n",
       "      <th>Z</th>\n",
       "      <th>Shreyas</th>\n",
       "      <th>new</th>\n",
       "    </tr>\n",
       "  </thead>\n",
       "  <tbody>\n",
       "    <tr>\n",
       "      <th>0</th>\n",
       "      <td>0.798110</td>\n",
       "      <td>0.223191</td>\n",
       "      <td>0.778342</td>\n",
       "      <td>0.253085</td>\n",
       "      <td>1.051195</td>\n",
       "      <td>1</td>\n",
       "    </tr>\n",
       "    <tr>\n",
       "      <th>1</th>\n",
       "      <td>0.059245</td>\n",
       "      <td>-1.331604</td>\n",
       "      <td>0.723459</td>\n",
       "      <td>0.436732</td>\n",
       "      <td>0.495977</td>\n",
       "      <td>2</td>\n",
       "    </tr>\n",
       "    <tr>\n",
       "      <th>2</th>\n",
       "      <td>1.732552</td>\n",
       "      <td>0.095831</td>\n",
       "      <td>1.736671</td>\n",
       "      <td>0.356191</td>\n",
       "      <td>2.088743</td>\n",
       "      <td>3</td>\n",
       "    </tr>\n",
       "    <tr>\n",
       "      <th>3</th>\n",
       "      <td>0.614268</td>\n",
       "      <td>-0.067506</td>\n",
       "      <td>1.665442</td>\n",
       "      <td>-2.358742</td>\n",
       "      <td>-1.744474</td>\n",
       "      <td>4</td>\n",
       "    </tr>\n",
       "    <tr>\n",
       "      <th>4</th>\n",
       "      <td>-2.053557</td>\n",
       "      <td>0.504950</td>\n",
       "      <td>-1.437050</td>\n",
       "      <td>2.227930</td>\n",
       "      <td>0.174373</td>\n",
       "      <td>5</td>\n",
       "    </tr>\n",
       "  </tbody>\n",
       "</table>\n",
       "</div>"
      ],
      "text/plain": [
       "          W         X         Y         Z   Shreyas  new\n",
       "0  0.798110  0.223191  0.778342  0.253085  1.051195    1\n",
       "1  0.059245 -1.331604  0.723459  0.436732  0.495977    2\n",
       "2  1.732552  0.095831  1.736671  0.356191  2.088743    3\n",
       "3  0.614268 -0.067506  1.665442 -2.358742 -1.744474    4\n",
       "4 -2.053557  0.504950 -1.437050  2.227930  0.174373    5"
      ]
     },
     "execution_count": 14,
     "metadata": {},
     "output_type": "execute_result"
    }
   ],
   "source": [
    "df "
   ]
  },
  {
   "cell_type": "code",
   "execution_count": 15,
   "id": "a6269e75-0845-4240-822a-35d4f317ef33",
   "metadata": {},
   "outputs": [],
   "source": [
    "df.drop('new',axis=1,inplace=True)"
   ]
  },
  {
   "cell_type": "code",
   "execution_count": 16,
   "id": "2654600b-80be-44bf-a756-d67e02cba47d",
   "metadata": {},
   "outputs": [
    {
     "data": {
      "text/html": [
       "<div>\n",
       "<style scoped>\n",
       "    .dataframe tbody tr th:only-of-type {\n",
       "        vertical-align: middle;\n",
       "    }\n",
       "\n",
       "    .dataframe tbody tr th {\n",
       "        vertical-align: top;\n",
       "    }\n",
       "\n",
       "    .dataframe thead th {\n",
       "        text-align: right;\n",
       "    }\n",
       "</style>\n",
       "<table border=\"1\" class=\"dataframe\">\n",
       "  <thead>\n",
       "    <tr style=\"text-align: right;\">\n",
       "      <th></th>\n",
       "      <th>W</th>\n",
       "      <th>X</th>\n",
       "      <th>Y</th>\n",
       "      <th>Z</th>\n",
       "      <th>Shreyas</th>\n",
       "    </tr>\n",
       "  </thead>\n",
       "  <tbody>\n",
       "    <tr>\n",
       "      <th>0</th>\n",
       "      <td>0.798110</td>\n",
       "      <td>0.223191</td>\n",
       "      <td>0.778342</td>\n",
       "      <td>0.253085</td>\n",
       "      <td>1.051195</td>\n",
       "    </tr>\n",
       "    <tr>\n",
       "      <th>1</th>\n",
       "      <td>0.059245</td>\n",
       "      <td>-1.331604</td>\n",
       "      <td>0.723459</td>\n",
       "      <td>0.436732</td>\n",
       "      <td>0.495977</td>\n",
       "    </tr>\n",
       "    <tr>\n",
       "      <th>2</th>\n",
       "      <td>1.732552</td>\n",
       "      <td>0.095831</td>\n",
       "      <td>1.736671</td>\n",
       "      <td>0.356191</td>\n",
       "      <td>2.088743</td>\n",
       "    </tr>\n",
       "    <tr>\n",
       "      <th>3</th>\n",
       "      <td>0.614268</td>\n",
       "      <td>-0.067506</td>\n",
       "      <td>1.665442</td>\n",
       "      <td>-2.358742</td>\n",
       "      <td>-1.744474</td>\n",
       "    </tr>\n",
       "    <tr>\n",
       "      <th>4</th>\n",
       "      <td>-2.053557</td>\n",
       "      <td>0.504950</td>\n",
       "      <td>-1.437050</td>\n",
       "      <td>2.227930</td>\n",
       "      <td>0.174373</td>\n",
       "    </tr>\n",
       "  </tbody>\n",
       "</table>\n",
       "</div>"
      ],
      "text/plain": [
       "          W         X         Y         Z   Shreyas\n",
       "0  0.798110  0.223191  0.778342  0.253085  1.051195\n",
       "1  0.059245 -1.331604  0.723459  0.436732  0.495977\n",
       "2  1.732552  0.095831  1.736671  0.356191  2.088743\n",
       "3  0.614268 -0.067506  1.665442 -2.358742 -1.744474\n",
       "4 -2.053557  0.504950 -1.437050  2.227930  0.174373"
      ]
     },
     "execution_count": 16,
     "metadata": {},
     "output_type": "execute_result"
    }
   ],
   "source": [
    "df "
   ]
  },
  {
   "cell_type": "code",
   "execution_count": 17,
   "id": "85ac3b31-cb53-4843-b10f-1d000e87e9aa",
   "metadata": {},
   "outputs": [
    {
     "data": {
      "text/html": [
       "<div>\n",
       "<style scoped>\n",
       "    .dataframe tbody tr th:only-of-type {\n",
       "        vertical-align: middle;\n",
       "    }\n",
       "\n",
       "    .dataframe tbody tr th {\n",
       "        vertical-align: top;\n",
       "    }\n",
       "\n",
       "    .dataframe thead th {\n",
       "        text-align: right;\n",
       "    }\n",
       "</style>\n",
       "<table border=\"1\" class=\"dataframe\">\n",
       "  <thead>\n",
       "    <tr style=\"text-align: right;\">\n",
       "      <th></th>\n",
       "      <th>W</th>\n",
       "      <th>X</th>\n",
       "      <th>Y</th>\n",
       "      <th>Z</th>\n",
       "    </tr>\n",
       "  </thead>\n",
       "  <tbody>\n",
       "    <tr>\n",
       "      <th>0</th>\n",
       "      <td>0.798110</td>\n",
       "      <td>0.223191</td>\n",
       "      <td>0.778342</td>\n",
       "      <td>0.253085</td>\n",
       "    </tr>\n",
       "    <tr>\n",
       "      <th>1</th>\n",
       "      <td>0.059245</td>\n",
       "      <td>-1.331604</td>\n",
       "      <td>0.723459</td>\n",
       "      <td>0.436732</td>\n",
       "    </tr>\n",
       "    <tr>\n",
       "      <th>2</th>\n",
       "      <td>1.732552</td>\n",
       "      <td>0.095831</td>\n",
       "      <td>1.736671</td>\n",
       "      <td>0.356191</td>\n",
       "    </tr>\n",
       "    <tr>\n",
       "      <th>3</th>\n",
       "      <td>0.614268</td>\n",
       "      <td>-0.067506</td>\n",
       "      <td>1.665442</td>\n",
       "      <td>-2.358742</td>\n",
       "    </tr>\n",
       "    <tr>\n",
       "      <th>4</th>\n",
       "      <td>-2.053557</td>\n",
       "      <td>0.504950</td>\n",
       "      <td>-1.437050</td>\n",
       "      <td>2.227930</td>\n",
       "    </tr>\n",
       "  </tbody>\n",
       "</table>\n",
       "</div>"
      ],
      "text/plain": [
       "          W         X         Y         Z\n",
       "0  0.798110  0.223191  0.778342  0.253085\n",
       "1  0.059245 -1.331604  0.723459  0.436732\n",
       "2  1.732552  0.095831  1.736671  0.356191\n",
       "3  0.614268 -0.067506  1.665442 -2.358742\n",
       "4 -2.053557  0.504950 -1.437050  2.227930"
      ]
     },
     "execution_count": 17,
     "metadata": {},
     "output_type": "execute_result"
    }
   ],
   "source": [
    "df.drop('Shreyas',axis=1)"
   ]
  },
  {
   "cell_type": "code",
   "execution_count": 18,
   "id": "3da412d1-37ee-45db-bf01-199a8693fb5b",
   "metadata": {},
   "outputs": [
    {
     "data": {
      "text/html": [
       "<div>\n",
       "<style scoped>\n",
       "    .dataframe tbody tr th:only-of-type {\n",
       "        vertical-align: middle;\n",
       "    }\n",
       "\n",
       "    .dataframe tbody tr th {\n",
       "        vertical-align: top;\n",
       "    }\n",
       "\n",
       "    .dataframe thead th {\n",
       "        text-align: right;\n",
       "    }\n",
       "</style>\n",
       "<table border=\"1\" class=\"dataframe\">\n",
       "  <thead>\n",
       "    <tr style=\"text-align: right;\">\n",
       "      <th></th>\n",
       "      <th>W</th>\n",
       "      <th>X</th>\n",
       "      <th>Y</th>\n",
       "      <th>Z</th>\n",
       "      <th>Shreyas</th>\n",
       "    </tr>\n",
       "  </thead>\n",
       "  <tbody>\n",
       "    <tr>\n",
       "      <th>0</th>\n",
       "      <td>0.798110</td>\n",
       "      <td>0.223191</td>\n",
       "      <td>0.778342</td>\n",
       "      <td>0.253085</td>\n",
       "      <td>1.051195</td>\n",
       "    </tr>\n",
       "    <tr>\n",
       "      <th>1</th>\n",
       "      <td>0.059245</td>\n",
       "      <td>-1.331604</td>\n",
       "      <td>0.723459</td>\n",
       "      <td>0.436732</td>\n",
       "      <td>0.495977</td>\n",
       "    </tr>\n",
       "    <tr>\n",
       "      <th>2</th>\n",
       "      <td>1.732552</td>\n",
       "      <td>0.095831</td>\n",
       "      <td>1.736671</td>\n",
       "      <td>0.356191</td>\n",
       "      <td>2.088743</td>\n",
       "    </tr>\n",
       "    <tr>\n",
       "      <th>3</th>\n",
       "      <td>0.614268</td>\n",
       "      <td>-0.067506</td>\n",
       "      <td>1.665442</td>\n",
       "      <td>-2.358742</td>\n",
       "      <td>-1.744474</td>\n",
       "    </tr>\n",
       "    <tr>\n",
       "      <th>4</th>\n",
       "      <td>-2.053557</td>\n",
       "      <td>0.504950</td>\n",
       "      <td>-1.437050</td>\n",
       "      <td>2.227930</td>\n",
       "      <td>0.174373</td>\n",
       "    </tr>\n",
       "  </tbody>\n",
       "</table>\n",
       "</div>"
      ],
      "text/plain": [
       "          W         X         Y         Z   Shreyas\n",
       "0  0.798110  0.223191  0.778342  0.253085  1.051195\n",
       "1  0.059245 -1.331604  0.723459  0.436732  0.495977\n",
       "2  1.732552  0.095831  1.736671  0.356191  2.088743\n",
       "3  0.614268 -0.067506  1.665442 -2.358742 -1.744474\n",
       "4 -2.053557  0.504950 -1.437050  2.227930  0.174373"
      ]
     },
     "execution_count": 18,
     "metadata": {},
     "output_type": "execute_result"
    }
   ],
   "source": [
    "df "
   ]
  },
  {
   "cell_type": "code",
   "execution_count": 19,
   "id": "27614669-7365-4e2b-ae29-b1eee2593d14",
   "metadata": {},
   "outputs": [],
   "source": [
    "df.drop('Shreyas',axis=1,inplace=True)"
   ]
  },
  {
   "cell_type": "code",
   "execution_count": 20,
   "id": "cfcc2da9-1774-4946-aa61-cf412d4f5359",
   "metadata": {},
   "outputs": [
    {
     "data": {
      "text/html": [
       "<div>\n",
       "<style scoped>\n",
       "    .dataframe tbody tr th:only-of-type {\n",
       "        vertical-align: middle;\n",
       "    }\n",
       "\n",
       "    .dataframe tbody tr th {\n",
       "        vertical-align: top;\n",
       "    }\n",
       "\n",
       "    .dataframe thead th {\n",
       "        text-align: right;\n",
       "    }\n",
       "</style>\n",
       "<table border=\"1\" class=\"dataframe\">\n",
       "  <thead>\n",
       "    <tr style=\"text-align: right;\">\n",
       "      <th></th>\n",
       "      <th>W</th>\n",
       "      <th>X</th>\n",
       "      <th>Y</th>\n",
       "      <th>Z</th>\n",
       "    </tr>\n",
       "  </thead>\n",
       "  <tbody>\n",
       "    <tr>\n",
       "      <th>0</th>\n",
       "      <td>0.798110</td>\n",
       "      <td>0.223191</td>\n",
       "      <td>0.778342</td>\n",
       "      <td>0.253085</td>\n",
       "    </tr>\n",
       "    <tr>\n",
       "      <th>1</th>\n",
       "      <td>0.059245</td>\n",
       "      <td>-1.331604</td>\n",
       "      <td>0.723459</td>\n",
       "      <td>0.436732</td>\n",
       "    </tr>\n",
       "    <tr>\n",
       "      <th>2</th>\n",
       "      <td>1.732552</td>\n",
       "      <td>0.095831</td>\n",
       "      <td>1.736671</td>\n",
       "      <td>0.356191</td>\n",
       "    </tr>\n",
       "    <tr>\n",
       "      <th>3</th>\n",
       "      <td>0.614268</td>\n",
       "      <td>-0.067506</td>\n",
       "      <td>1.665442</td>\n",
       "      <td>-2.358742</td>\n",
       "    </tr>\n",
       "    <tr>\n",
       "      <th>4</th>\n",
       "      <td>-2.053557</td>\n",
       "      <td>0.504950</td>\n",
       "      <td>-1.437050</td>\n",
       "      <td>2.227930</td>\n",
       "    </tr>\n",
       "  </tbody>\n",
       "</table>\n",
       "</div>"
      ],
      "text/plain": [
       "          W         X         Y         Z\n",
       "0  0.798110  0.223191  0.778342  0.253085\n",
       "1  0.059245 -1.331604  0.723459  0.436732\n",
       "2  1.732552  0.095831  1.736671  0.356191\n",
       "3  0.614268 -0.067506  1.665442 -2.358742\n",
       "4 -2.053557  0.504950 -1.437050  2.227930"
      ]
     },
     "execution_count": 20,
     "metadata": {},
     "output_type": "execute_result"
    }
   ],
   "source": [
    "df"
   ]
  },
  {
   "cell_type": "code",
   "execution_count": 21,
   "id": "bcb781cd-d1ea-4e46-ab22-cac3272f4e07",
   "metadata": {},
   "outputs": [
    {
     "data": {
      "text/html": [
       "<div>\n",
       "<style scoped>\n",
       "    .dataframe tbody tr th:only-of-type {\n",
       "        vertical-align: middle;\n",
       "    }\n",
       "\n",
       "    .dataframe tbody tr th {\n",
       "        vertical-align: top;\n",
       "    }\n",
       "\n",
       "    .dataframe thead th {\n",
       "        text-align: right;\n",
       "    }\n",
       "</style>\n",
       "<table border=\"1\" class=\"dataframe\">\n",
       "  <thead>\n",
       "    <tr style=\"text-align: right;\">\n",
       "      <th></th>\n",
       "      <th>W</th>\n",
       "      <th>X</th>\n",
       "      <th>Y</th>\n",
       "      <th>Z</th>\n",
       "    </tr>\n",
       "  </thead>\n",
       "  <tbody>\n",
       "    <tr>\n",
       "      <th>0</th>\n",
       "      <td>0.798110</td>\n",
       "      <td>0.223191</td>\n",
       "      <td>0.778342</td>\n",
       "      <td>0.253085</td>\n",
       "    </tr>\n",
       "    <tr>\n",
       "      <th>1</th>\n",
       "      <td>0.059245</td>\n",
       "      <td>-1.331604</td>\n",
       "      <td>0.723459</td>\n",
       "      <td>0.436732</td>\n",
       "    </tr>\n",
       "    <tr>\n",
       "      <th>2</th>\n",
       "      <td>1.732552</td>\n",
       "      <td>0.095831</td>\n",
       "      <td>1.736671</td>\n",
       "      <td>0.356191</td>\n",
       "    </tr>\n",
       "    <tr>\n",
       "      <th>4</th>\n",
       "      <td>-2.053557</td>\n",
       "      <td>0.504950</td>\n",
       "      <td>-1.437050</td>\n",
       "      <td>2.227930</td>\n",
       "    </tr>\n",
       "  </tbody>\n",
       "</table>\n",
       "</div>"
      ],
      "text/plain": [
       "          W         X         Y         Z\n",
       "0  0.798110  0.223191  0.778342  0.253085\n",
       "1  0.059245 -1.331604  0.723459  0.436732\n",
       "2  1.732552  0.095831  1.736671  0.356191\n",
       "4 -2.053557  0.504950 -1.437050  2.227930"
      ]
     },
     "execution_count": 21,
     "metadata": {},
     "output_type": "execute_result"
    }
   ],
   "source": [
    "df.drop(3,axis=0)"
   ]
  },
  {
   "cell_type": "code",
   "execution_count": 22,
   "id": "7aaa090d-3463-40a1-a433-faa50edfb3b1",
   "metadata": {},
   "outputs": [
    {
     "data": {
      "text/html": [
       "<div>\n",
       "<style scoped>\n",
       "    .dataframe tbody tr th:only-of-type {\n",
       "        vertical-align: middle;\n",
       "    }\n",
       "\n",
       "    .dataframe tbody tr th {\n",
       "        vertical-align: top;\n",
       "    }\n",
       "\n",
       "    .dataframe thead th {\n",
       "        text-align: right;\n",
       "    }\n",
       "</style>\n",
       "<table border=\"1\" class=\"dataframe\">\n",
       "  <thead>\n",
       "    <tr style=\"text-align: right;\">\n",
       "      <th></th>\n",
       "      <th>W</th>\n",
       "      <th>X</th>\n",
       "      <th>Y</th>\n",
       "      <th>Z</th>\n",
       "    </tr>\n",
       "  </thead>\n",
       "  <tbody>\n",
       "    <tr>\n",
       "      <th>0</th>\n",
       "      <td>0.798110</td>\n",
       "      <td>0.223191</td>\n",
       "      <td>0.778342</td>\n",
       "      <td>0.253085</td>\n",
       "    </tr>\n",
       "    <tr>\n",
       "      <th>1</th>\n",
       "      <td>0.059245</td>\n",
       "      <td>-1.331604</td>\n",
       "      <td>0.723459</td>\n",
       "      <td>0.436732</td>\n",
       "    </tr>\n",
       "    <tr>\n",
       "      <th>2</th>\n",
       "      <td>1.732552</td>\n",
       "      <td>0.095831</td>\n",
       "      <td>1.736671</td>\n",
       "      <td>0.356191</td>\n",
       "    </tr>\n",
       "    <tr>\n",
       "      <th>3</th>\n",
       "      <td>0.614268</td>\n",
       "      <td>-0.067506</td>\n",
       "      <td>1.665442</td>\n",
       "      <td>-2.358742</td>\n",
       "    </tr>\n",
       "    <tr>\n",
       "      <th>4</th>\n",
       "      <td>-2.053557</td>\n",
       "      <td>0.504950</td>\n",
       "      <td>-1.437050</td>\n",
       "      <td>2.227930</td>\n",
       "    </tr>\n",
       "  </tbody>\n",
       "</table>\n",
       "</div>"
      ],
      "text/plain": [
       "          W         X         Y         Z\n",
       "0  0.798110  0.223191  0.778342  0.253085\n",
       "1  0.059245 -1.331604  0.723459  0.436732\n",
       "2  1.732552  0.095831  1.736671  0.356191\n",
       "3  0.614268 -0.067506  1.665442 -2.358742\n",
       "4 -2.053557  0.504950 -1.437050  2.227930"
      ]
     },
     "execution_count": 22,
     "metadata": {},
     "output_type": "execute_result"
    }
   ],
   "source": [
    "df"
   ]
  },
  {
   "cell_type": "code",
   "execution_count": 23,
   "id": "f2b4ba2f-59ee-4345-85a9-755f61ad6bfa",
   "metadata": {},
   "outputs": [],
   "source": [
    "df.drop(3,axis=0,inplace=True)"
   ]
  },
  {
   "cell_type": "code",
   "execution_count": 24,
   "id": "fe4b4b75-68b1-4037-8850-29a97dda0301",
   "metadata": {},
   "outputs": [
    {
     "data": {
      "text/html": [
       "<div>\n",
       "<style scoped>\n",
       "    .dataframe tbody tr th:only-of-type {\n",
       "        vertical-align: middle;\n",
       "    }\n",
       "\n",
       "    .dataframe tbody tr th {\n",
       "        vertical-align: top;\n",
       "    }\n",
       "\n",
       "    .dataframe thead th {\n",
       "        text-align: right;\n",
       "    }\n",
       "</style>\n",
       "<table border=\"1\" class=\"dataframe\">\n",
       "  <thead>\n",
       "    <tr style=\"text-align: right;\">\n",
       "      <th></th>\n",
       "      <th>W</th>\n",
       "      <th>X</th>\n",
       "      <th>Y</th>\n",
       "      <th>Z</th>\n",
       "    </tr>\n",
       "  </thead>\n",
       "  <tbody>\n",
       "    <tr>\n",
       "      <th>0</th>\n",
       "      <td>0.798110</td>\n",
       "      <td>0.223191</td>\n",
       "      <td>0.778342</td>\n",
       "      <td>0.253085</td>\n",
       "    </tr>\n",
       "    <tr>\n",
       "      <th>1</th>\n",
       "      <td>0.059245</td>\n",
       "      <td>-1.331604</td>\n",
       "      <td>0.723459</td>\n",
       "      <td>0.436732</td>\n",
       "    </tr>\n",
       "    <tr>\n",
       "      <th>2</th>\n",
       "      <td>1.732552</td>\n",
       "      <td>0.095831</td>\n",
       "      <td>1.736671</td>\n",
       "      <td>0.356191</td>\n",
       "    </tr>\n",
       "    <tr>\n",
       "      <th>4</th>\n",
       "      <td>-2.053557</td>\n",
       "      <td>0.504950</td>\n",
       "      <td>-1.437050</td>\n",
       "      <td>2.227930</td>\n",
       "    </tr>\n",
       "  </tbody>\n",
       "</table>\n",
       "</div>"
      ],
      "text/plain": [
       "          W         X         Y         Z\n",
       "0  0.798110  0.223191  0.778342  0.253085\n",
       "1  0.059245 -1.331604  0.723459  0.436732\n",
       "2  1.732552  0.095831  1.736671  0.356191\n",
       "4 -2.053557  0.504950 -1.437050  2.227930"
      ]
     },
     "execution_count": 24,
     "metadata": {},
     "output_type": "execute_result"
    }
   ],
   "source": [
    "df "
   ]
  },
  {
   "cell_type": "code",
   "execution_count": 25,
   "id": "7186191c-69f4-43da-98f8-4163aaac586d",
   "metadata": {},
   "outputs": [
    {
     "data": {
      "text/plain": [
       "(4, 4)"
      ]
     },
     "execution_count": 25,
     "metadata": {},
     "output_type": "execute_result"
    }
   ],
   "source": [
    "df.shape"
   ]
  },
  {
   "cell_type": "code",
   "execution_count": 26,
   "id": "fda9b705-aa77-4edb-917b-24b008869509",
   "metadata": {},
   "outputs": [
    {
     "data": {
      "text/plain": [
       "W    1.732552\n",
       "X    0.095831\n",
       "Y    1.736671\n",
       "Z    0.356191\n",
       "Name: 2, dtype: float64"
      ]
     },
     "execution_count": 26,
     "metadata": {},
     "output_type": "execute_result"
    }
   ],
   "source": [
    "df.iloc[2]"
   ]
  },
  {
   "cell_type": "code",
   "execution_count": 27,
   "id": "b4cfaefe-a75a-4c65-9697-5732f754985c",
   "metadata": {},
   "outputs": [
    {
     "data": {
      "text/plain": [
       "W   -2.053557\n",
       "X    0.504950\n",
       "Y   -1.437050\n",
       "Z    2.227930\n",
       "Name: 4, dtype: float64"
      ]
     },
     "execution_count": 27,
     "metadata": {},
     "output_type": "execute_result"
    }
   ],
   "source": [
    "df.iloc[3]"
   ]
  },
  {
   "cell_type": "code",
   "execution_count": 28,
   "id": "1f4aceae-e816-4700-a3ea-46f829eba89c",
   "metadata": {},
   "outputs": [],
   "source": [
    "df = pd.DataFrame(np.random.randn(5,4),columns=['W','X','Y','Z'])"
   ]
  },
  {
   "cell_type": "code",
   "execution_count": 29,
   "id": "232a2e11-a249-4118-ac83-440043d44792",
   "metadata": {},
   "outputs": [
    {
     "data": {
      "text/html": [
       "<div>\n",
       "<style scoped>\n",
       "    .dataframe tbody tr th:only-of-type {\n",
       "        vertical-align: middle;\n",
       "    }\n",
       "\n",
       "    .dataframe tbody tr th {\n",
       "        vertical-align: top;\n",
       "    }\n",
       "\n",
       "    .dataframe thead th {\n",
       "        text-align: right;\n",
       "    }\n",
       "</style>\n",
       "<table border=\"1\" class=\"dataframe\">\n",
       "  <thead>\n",
       "    <tr style=\"text-align: right;\">\n",
       "      <th></th>\n",
       "      <th>W</th>\n",
       "      <th>X</th>\n",
       "      <th>Y</th>\n",
       "      <th>Z</th>\n",
       "    </tr>\n",
       "  </thead>\n",
       "  <tbody>\n",
       "    <tr>\n",
       "      <th>0</th>\n",
       "      <td>-1.036224</td>\n",
       "      <td>1.071682</td>\n",
       "      <td>1.147100</td>\n",
       "      <td>-0.231648</td>\n",
       "    </tr>\n",
       "    <tr>\n",
       "      <th>1</th>\n",
       "      <td>-0.435693</td>\n",
       "      <td>-0.999363</td>\n",
       "      <td>-0.569411</td>\n",
       "      <td>-0.658663</td>\n",
       "    </tr>\n",
       "    <tr>\n",
       "      <th>2</th>\n",
       "      <td>-0.785843</td>\n",
       "      <td>-1.210233</td>\n",
       "      <td>0.214215</td>\n",
       "      <td>0.330351</td>\n",
       "    </tr>\n",
       "    <tr>\n",
       "      <th>3</th>\n",
       "      <td>-1.811001</td>\n",
       "      <td>-0.598799</td>\n",
       "      <td>-0.184377</td>\n",
       "      <td>-2.498397</td>\n",
       "    </tr>\n",
       "    <tr>\n",
       "      <th>4</th>\n",
       "      <td>-0.928223</td>\n",
       "      <td>-1.937309</td>\n",
       "      <td>0.198498</td>\n",
       "      <td>-0.166422</td>\n",
       "    </tr>\n",
       "  </tbody>\n",
       "</table>\n",
       "</div>"
      ],
      "text/plain": [
       "          W         X         Y         Z\n",
       "0 -1.036224  1.071682  1.147100 -0.231648\n",
       "1 -0.435693 -0.999363 -0.569411 -0.658663\n",
       "2 -0.785843 -1.210233  0.214215  0.330351\n",
       "3 -1.811001 -0.598799 -0.184377 -2.498397\n",
       "4 -0.928223 -1.937309  0.198498 -0.166422"
      ]
     },
     "execution_count": 29,
     "metadata": {},
     "output_type": "execute_result"
    }
   ],
   "source": [
    "df "
   ]
  },
  {
   "cell_type": "code",
   "execution_count": 30,
   "id": "1f7892fd-9998-4da8-b521-f05a8c2a4331",
   "metadata": {},
   "outputs": [
    {
     "data": {
      "text/html": [
       "<div>\n",
       "<style scoped>\n",
       "    .dataframe tbody tr th:only-of-type {\n",
       "        vertical-align: middle;\n",
       "    }\n",
       "\n",
       "    .dataframe tbody tr th {\n",
       "        vertical-align: top;\n",
       "    }\n",
       "\n",
       "    .dataframe thead th {\n",
       "        text-align: right;\n",
       "    }\n",
       "</style>\n",
       "<table border=\"1\" class=\"dataframe\">\n",
       "  <thead>\n",
       "    <tr style=\"text-align: right;\">\n",
       "      <th></th>\n",
       "      <th>Y</th>\n",
       "      <th>Z</th>\n",
       "    </tr>\n",
       "  </thead>\n",
       "  <tbody>\n",
       "    <tr>\n",
       "      <th>0</th>\n",
       "      <td>1.147100</td>\n",
       "      <td>-0.231648</td>\n",
       "    </tr>\n",
       "    <tr>\n",
       "      <th>1</th>\n",
       "      <td>-0.569411</td>\n",
       "      <td>-0.658663</td>\n",
       "    </tr>\n",
       "    <tr>\n",
       "      <th>2</th>\n",
       "      <td>0.214215</td>\n",
       "      <td>0.330351</td>\n",
       "    </tr>\n",
       "    <tr>\n",
       "      <th>3</th>\n",
       "      <td>-0.184377</td>\n",
       "      <td>-2.498397</td>\n",
       "    </tr>\n",
       "    <tr>\n",
       "      <th>4</th>\n",
       "      <td>0.198498</td>\n",
       "      <td>-0.166422</td>\n",
       "    </tr>\n",
       "  </tbody>\n",
       "</table>\n",
       "</div>"
      ],
      "text/plain": [
       "          Y         Z\n",
       "0  1.147100 -0.231648\n",
       "1 -0.569411 -0.658663\n",
       "2  0.214215  0.330351\n",
       "3 -0.184377 -2.498397\n",
       "4  0.198498 -0.166422"
      ]
     },
     "execution_count": 30,
     "metadata": {},
     "output_type": "execute_result"
    }
   ],
   "source": [
    "df.iloc[0:,2:]"
   ]
  },
  {
   "cell_type": "code",
   "execution_count": 31,
   "id": "775822a9-3448-438f-b2c0-4ea5c18942f9",
   "metadata": {},
   "outputs": [
    {
     "data": {
      "text/html": [
       "<div>\n",
       "<style scoped>\n",
       "    .dataframe tbody tr th:only-of-type {\n",
       "        vertical-align: middle;\n",
       "    }\n",
       "\n",
       "    .dataframe tbody tr th {\n",
       "        vertical-align: top;\n",
       "    }\n",
       "\n",
       "    .dataframe thead th {\n",
       "        text-align: right;\n",
       "    }\n",
       "</style>\n",
       "<table border=\"1\" class=\"dataframe\">\n",
       "  <thead>\n",
       "    <tr style=\"text-align: right;\">\n",
       "      <th></th>\n",
       "      <th>Y</th>\n",
       "      <th>Z</th>\n",
       "    </tr>\n",
       "  </thead>\n",
       "  <tbody>\n",
       "    <tr>\n",
       "      <th>2</th>\n",
       "      <td>0.214215</td>\n",
       "      <td>0.330351</td>\n",
       "    </tr>\n",
       "    <tr>\n",
       "      <th>3</th>\n",
       "      <td>-0.184377</td>\n",
       "      <td>-2.498397</td>\n",
       "    </tr>\n",
       "    <tr>\n",
       "      <th>4</th>\n",
       "      <td>0.198498</td>\n",
       "      <td>-0.166422</td>\n",
       "    </tr>\n",
       "  </tbody>\n",
       "</table>\n",
       "</div>"
      ],
      "text/plain": [
       "          Y         Z\n",
       "2  0.214215  0.330351\n",
       "3 -0.184377 -2.498397\n",
       "4  0.198498 -0.166422"
      ]
     },
     "execution_count": 31,
     "metadata": {},
     "output_type": "execute_result"
    }
   ],
   "source": [
    "df.iloc[2:,2:]"
   ]
  },
  {
   "cell_type": "code",
   "execution_count": 32,
   "id": "a8a78acf-bf84-4aaf-b27f-6905af739546",
   "metadata": {},
   "outputs": [
    {
     "data": {
      "text/html": [
       "<div>\n",
       "<style scoped>\n",
       "    .dataframe tbody tr th:only-of-type {\n",
       "        vertical-align: middle;\n",
       "    }\n",
       "\n",
       "    .dataframe tbody tr th {\n",
       "        vertical-align: top;\n",
       "    }\n",
       "\n",
       "    .dataframe thead th {\n",
       "        text-align: right;\n",
       "    }\n",
       "</style>\n",
       "<table border=\"1\" class=\"dataframe\">\n",
       "  <thead>\n",
       "    <tr style=\"text-align: right;\">\n",
       "      <th></th>\n",
       "      <th>Y</th>\n",
       "      <th>Z</th>\n",
       "    </tr>\n",
       "  </thead>\n",
       "  <tbody>\n",
       "    <tr>\n",
       "      <th>0</th>\n",
       "      <td>1.147100</td>\n",
       "      <td>-0.231648</td>\n",
       "    </tr>\n",
       "    <tr>\n",
       "      <th>1</th>\n",
       "      <td>-0.569411</td>\n",
       "      <td>-0.658663</td>\n",
       "    </tr>\n",
       "    <tr>\n",
       "      <th>2</th>\n",
       "      <td>0.214215</td>\n",
       "      <td>0.330351</td>\n",
       "    </tr>\n",
       "  </tbody>\n",
       "</table>\n",
       "</div>"
      ],
      "text/plain": [
       "          Y         Z\n",
       "0  1.147100 -0.231648\n",
       "1 -0.569411 -0.658663\n",
       "2  0.214215  0.330351"
      ]
     },
     "execution_count": 32,
     "metadata": {},
     "output_type": "execute_result"
    }
   ],
   "source": [
    "df.iloc[0:3,2:]"
   ]
  },
  {
   "cell_type": "markdown",
   "id": "8a8dbabe-d16f-4e41-a08c-9055b69b4733",
   "metadata": {},
   "source": [
    "# Matplotlib"
   ]
  },
  {
   "cell_type": "code",
   "execution_count": 33,
   "id": "01a1dac7-e7af-48ee-b6cf-c8e774c2c08d",
   "metadata": {},
   "outputs": [],
   "source": [
    "import matplotlib.pyplot as plt "
   ]
  },
  {
   "cell_type": "code",
   "execution_count": 34,
   "id": "c03fd906-0e2d-40dd-8417-4ff6d1d53e21",
   "metadata": {},
   "outputs": [],
   "source": [
    "a = np.linspace(0,5,11)"
   ]
  },
  {
   "cell_type": "code",
   "execution_count": 35,
   "id": "9c5c82d1-ada8-4467-86c6-f731ff983126",
   "metadata": {},
   "outputs": [
    {
     "data": {
      "text/plain": [
       "array([0. , 0.5, 1. , 1.5, 2. , 2.5, 3. , 3.5, 4. , 4.5, 5. ])"
      ]
     },
     "execution_count": 35,
     "metadata": {},
     "output_type": "execute_result"
    }
   ],
   "source": [
    "a"
   ]
  },
  {
   "cell_type": "code",
   "execution_count": 36,
   "id": "c049495d-1536-4652-9c64-0ca1458b1389",
   "metadata": {},
   "outputs": [],
   "source": [
    "b = a**2"
   ]
  },
  {
   "cell_type": "code",
   "execution_count": 37,
   "id": "52231eb7-c999-4459-aaa3-94b5d3caaa60",
   "metadata": {},
   "outputs": [
    {
     "data": {
      "text/plain": [
       "array([ 0.  ,  0.25,  1.  ,  2.25,  4.  ,  6.25,  9.  , 12.25, 16.  ,\n",
       "       20.25, 25.  ])"
      ]
     },
     "execution_count": 37,
     "metadata": {},
     "output_type": "execute_result"
    }
   ],
   "source": [
    "b "
   ]
  },
  {
   "cell_type": "code",
   "execution_count": 38,
   "id": "b80550bd-69f5-4551-b602-7521e6072dae",
   "metadata": {},
   "outputs": [],
   "source": [
    "c = np.array([2,4,6,8,9,2])"
   ]
  },
  {
   "cell_type": "code",
   "execution_count": 39,
   "id": "a75c242f-1f91-473c-b164-a91835c73316",
   "metadata": {},
   "outputs": [
    {
     "data": {
      "text/plain": [
       "array([2, 4, 6, 8, 9, 2])"
      ]
     },
     "execution_count": 39,
     "metadata": {},
     "output_type": "execute_result"
    }
   ],
   "source": [
    "c"
   ]
  },
  {
   "cell_type": "code",
   "execution_count": 40,
   "id": "97125d96-b35b-4449-b535-202f010cd4bd",
   "metadata": {},
   "outputs": [
    {
     "data": {
      "text/plain": [
       "[<matplotlib.lines.Line2D at 0x1e9f600f5f0>]"
      ]
     },
     "execution_count": 40,
     "metadata": {},
     "output_type": "execute_result"
    },
    {
     "data": {
      "image/png": "[encoded data removed]",
      "text/plain": [
       "<Figure size 640x480 with 1 Axes>"
      ]
     },
     "metadata": {},
     "output_type": "display_data"
    }
   ],
   "source": [
    "plt.plot(a,b)"
   ]
  },
  {
   "cell_type": "code",
   "execution_count": 41,
   "id": "95435cfb-3b12-4578-b883-d22668ed05bb",
   "metadata": {},
   "outputs": [
    {
     "data": {
      "image/png": "[encoded data removed]",
      "text/plain": [
       "<Figure size 640x480 with 1 Axes>"
      ]
     },
     "metadata": {},
     "output_type": "display_data"
    }
   ],
   "source": [
    "plt.plot(a,b)\n",
    "plt.title('SparrowAI', fontsize=20)\n",
    "plt.xlabel('A', fontsize=18)\n",
    "plt.ylabel('B', fontsize=18)\n",
    "plt.show()"
   ]
  },
  {
   "cell_type": "code",
   "execution_count": 42,
   "id": "5385464e-9cdf-4582-a127-eef7fc040505",
   "metadata": {},
   "outputs": [
    {
     "data": {
      "image/png": "[encoded data removed]",
      "text/plain": [
       "<Figure size 640x480 with 1 Axes>"
      ]
     },
     "metadata": {},
     "output_type": "display_data"
    }
   ],
   "source": [
    "plt.scatter(a,b)\n",
    "plt.title('SparrowAI', fontsize=20)\n",
    "plt.xlabel('A', fontsize=18)\n",
    "plt.ylabel('B', fontsize=18)\n",
    "plt.show()"
   ]
  },
  {
   "cell_type": "code",
   "execution_count": 43,
   "id": "02a6ce0c-a1ec-4700-b02a-e916b5dcb218",
   "metadata": {},
   "outputs": [
    {
     "data": {
      "image/png": "[encoded data removed]",
      "text/plain": [
       "<Figure size 640x480 with 1 Axes>"
      ]
     },
     "metadata": {},
     "output_type": "display_data"
    }
   ],
   "source": [
    "plt.bar(a,b)\n",
    "plt.title('SparrowAI', fontsize=20)\n",
    "plt.xlabel('A', fontsize=18)\n",
    "plt.ylabel('B', fontsize=18)\n",
    "plt.show()"
   ]
  },
  {
   "cell_type": "code",
   "execution_count": 44,
   "id": "c98e1bd6-65a1-496c-a87e-1987a09e250b",
   "metadata": {},
   "outputs": [
    {
     "data": {
      "text/plain": [
       "([<matplotlib.patches.Wedge at 0x1e9f6185e80>,\n",
       "  <matplotlib.patches.Wedge at 0x1e9f6186090>,\n",
       "  <matplotlib.patches.Wedge at 0x1e9f69be000>,\n",
       "  <matplotlib.patches.Wedge at 0x1e9f6148620>,\n",
       "  <matplotlib.patches.Wedge at 0x1e9f6148b90>,\n",
       "  <matplotlib.patches.Wedge at 0x1e9f6148d10>],\n",
       " [Text(1.0774829367152678, 0.22142836558905946, ''),\n",
       "  Text(0.7578636302467384, 0.7972720476407255, ''),\n",
       "  Text(-0.2757177275932748, 1.0648848457419238, ''),\n",
       "  Text(-1.0943562664864532, -0.11128504841995318, ''),\n",
       "  Text(0.27571762789155874, -1.0648848715564758, ''),\n",
       "  Text(1.0774828952520095, -0.22142856735152225, '')])"
      ]
     },
     "execution_count": 44,
     "metadata": {},
     "output_type": "execute_result"
    },
    {
     "data": {
      "image/png": "[encoded data removed]",
      "text/plain": [
       "<Figure size 640x480 with 1 Axes>"
      ]
     },
     "metadata": {},
     "output_type": "display_data"
    }
   ],
   "source": [
    "plt.pie(c)"
   ]
  },
  {
   "cell_type": "code",
   "execution_count": 45,
   "id": "4845d396-0569-404a-8a9b-5472ae34b0cb",
   "metadata": {},
   "outputs": [
    {
     "data": {
      "image/png": "[encoded data removed]",
      "text/plain": [
       "<Figure size 640x480 with 3 Axes>"
      ]
     },
     "metadata": {},
     "output_type": "display_data"
    }
   ],
   "source": [
    "plt.subplot(1,3,1)   # width,height,plot number\n",
    "plt.plot(a,b)\n",
    "\n",
    "plt.subplot(1,3,2)\n",
    "plt.plot(b,a)\n",
    "\n",
    "plt.subplot(1,3,3)\n",
    "plt.plot(a,a)\n",
    "\n",
    "plt.tight_layout()\n",
    "plt.show()"
   ]
  },
  {
   "cell_type": "code",
   "execution_count": 46,
   "id": "850d823f-c93f-4edd-a1bd-e2552ead0c25",
   "metadata": {},
   "outputs": [
    {
     "data": {
      "image/png": "[encoded data removed]",
      "text/plain": [
       "<Figure size 640x480 with 1 Axes>"
      ]
     },
     "metadata": {},
     "output_type": "display_data"
    }
   ],
   "source": [
    "fig = plt.figure()\n",
    "axes = fig.add_axes([0.1,0.1,0.8,0.8])   #left,bottom,width,height\n",
    "\n",
    "axes.plot(a,b)\n",
    "\n",
    "plt.title('SparrowAI', fontsize=20)\n",
    "plt.xlabel('A', fontsize=18)\n",
    "plt.ylabel('B', fontsize=18)\n",
    "plt.show()"
   ]
  },
  {
   "cell_type": "code",
   "execution_count": 47,
   "id": "cd08c925-e1f8-4874-af4b-caa2ab22d257",
   "metadata": {},
   "outputs": [
    {
     "data": {
      "image/png": "[encoded data removed]",
      "text/plain": [
       "<Figure size 640x480 with 2 Axes>"
      ]
     },
     "metadata": {},
     "output_type": "display_data"
    }
   ],
   "source": [
    "fig = plt.figure()\n",
    "axes1 = fig.add_axes([0.1,0.1,0.8,0.8])   #left,bottom,width,height\n",
    "axes2 = fig.add_axes([0.2,0.5,0.4,0.3])\n",
    "\n",
    "axes1.plot(a,b)\n",
    "axes2.plot(b,a)\n",
    "\n",
    "axes.set_title('SparrowAI', fontsize=20)\n",
    "axes.set_xlabel('A', fontsize=18)\n",
    "axes.set_ylabel('B', fontsize=18)\n",
    "plt.show()"
   ]
  },
  {
   "cell_type": "code",
   "execution_count": null,
   "id": "952ba63a-d242-40e4-b284-8b5eb205efbf",
   "metadata": {},
   "outputs": [],
   "source": []
  }
 ],
 "metadata": {
  "kernelspec": {
   "display_name": "Python 3 (ipykernel)",
   "language": "python",
   "name": "python3"
  },
  "language_info": {
   "codemirror_mode": {
    "name": "ipython",
    "version": 3
   },
   "file_extension": ".py",
   "mimetype": "text/x-python",
   "name": "python",
   "nbconvert_exporter": "python",
   "pygments_lexer": "ipython3",
   "version": "3.12.4"
  }
 },
 "nbformat": 4,
 "nbformat_minor": 5
}
